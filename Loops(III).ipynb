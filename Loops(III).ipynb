{
 "cells": [
  {
   "cell_type": "markdown",
   "metadata": {},
   "source": [
    "### WHILE"
   ]
  },
  {
   "cell_type": "code",
   "execution_count": 6,
   "metadata": {},
   "outputs": [
    {
     "name": "stdout",
     "output_type": "stream",
     "text": [
      "x is greater than 3\n",
      "x is greater than 3\n",
      "x is equals to 3\n"
     ]
    }
   ],
   "source": [
    "x=5\n",
    "\n",
    "while x>3:\n",
    "    print(\"x is greater than 3\")\n",
    "    x-=1\n",
    "else:\n",
    "    print(\"x is equals to 3\")"
   ]
  },
  {
   "cell_type": "markdown",
   "metadata": {},
   "source": [
    "##### break & continue"
   ]
  },
  {
   "cell_type": "code",
   "execution_count": 8,
   "metadata": {},
   "outputs": [
    {
     "name": "stdout",
     "output_type": "stream",
     "text": [
      "x= 0\n",
      "x= 1\n",
      "x= 2\n",
      "x= 3\n",
      "x= 4\n",
      "x= 5\n"
     ]
    }
   ],
   "source": [
    "x=0\n",
    "\n",
    "while x<10:\n",
    "    print(\"x=\",x)\n",
    "    if x==5:\n",
    "        break\n",
    "    x+=1\n",
    "    \n",
    "else:\n",
    "    print(\"X is equals to 10.\")"
   ]
  },
  {
   "cell_type": "code",
   "execution_count": 11,
   "metadata": {},
   "outputs": [
    {
     "name": "stdout",
     "output_type": "stream",
     "text": [
      "x= 1\n",
      "x= 2\n",
      "x= 3\n",
      "x= 4\n",
      "x= 6\n",
      "x= 7\n",
      "x= 8\n",
      "x= 9\n",
      "x= 10\n",
      "X is greater than 10.\n"
     ]
    }
   ],
   "source": [
    "x=0\n",
    "\n",
    "while x<10:    \n",
    "    x+=1\n",
    "    if x==5:\n",
    "        continue ## fonksyonun başına geri döner.\n",
    "    print(\"x=\",x)\n",
    "    \n",
    "else:\n",
    "    print(\"X is greater than 10.\")"
   ]
  },
  {
   "cell_type": "markdown",
   "metadata": {},
   "source": [
    "### For"
   ]
  },
  {
   "cell_type": "code",
   "execution_count": 12,
   "metadata": {},
   "outputs": [],
   "source": [
    "numbers = [1,2,3,4,5,6,7,8,9]"
   ]
  },
  {
   "cell_type": "code",
   "execution_count": 14,
   "metadata": {},
   "outputs": [
    {
     "name": "stdout",
     "output_type": "stream",
     "text": [
      "Number = 1\n",
      "Number = 2\n",
      "Number = 3\n",
      "Number = 4\n",
      "Number = 5\n",
      "Number = 6\n",
      "Number = 7\n",
      "Number = 8\n",
      "Number = 9\n",
      "Loop has finished\n"
     ]
    }
   ],
   "source": [
    "for num in numbers:\n",
    "    print(\"Number =\",num)\n",
    "else:\n",
    "    print(\"Loop has finished\")"
   ]
  },
  {
   "cell_type": "code",
   "execution_count": 15,
   "metadata": {},
   "outputs": [
    {
     "name": "stdout",
     "output_type": "stream",
     "text": [
      "Number = 1\n",
      "Number = 2\n",
      "Number = 3\n",
      "Number = 4\n",
      "Number = 5\n"
     ]
    }
   ],
   "source": [
    "for num in numbers:\n",
    "    print(\"Number =\",num)\n",
    "    if num==5:\n",
    "        break #for döngüsünden direkt çıkar\n",
    "else:\n",
    "    print(\"Loop has finished\")"
   ]
  },
  {
   "cell_type": "code",
   "execution_count": 16,
   "metadata": {},
   "outputs": [],
   "source": [
    "new=[1,2,3]"
   ]
  },
  {
   "cell_type": "code",
   "execution_count": 19,
   "metadata": {},
   "outputs": [
    {
     "name": "stdout",
     "output_type": "stream",
     "text": [
      "Number = 1\n",
      "Number = 2\n",
      "Number = 3\n",
      "Number = 1\n",
      "Number = 2\n",
      "Number = 3\n",
      "Number = 1\n",
      "Number = 2\n",
      "Number = 3\n",
      "Number = 1\n",
      "Number = 2\n",
      "Number = 3\n",
      "Number = 1\n",
      "Number = 2\n",
      "Number = 3\n",
      "Number = 1\n",
      "Number = 2\n",
      "Number = 3\n",
      "Number = 1\n",
      "Number = 2\n",
      "Number = 3\n",
      "Number = 1\n",
      "Number = 2\n",
      "Number = 3\n",
      "Number = 1\n",
      "Number = 2\n",
      "Number = 3\n",
      "Loop has finished\n"
     ]
    }
   ],
   "source": [
    "for num in numbers:\n",
    "    for new_num in new:\n",
    "        print(\"Number =\",new_num)\n",
    "else:\n",
    "    print(\"Loop has finished\")"
   ]
  },
  {
   "cell_type": "code",
   "execution_count": 20,
   "metadata": {},
   "outputs": [
    {
     "name": "stdout",
     "output_type": "stream",
     "text": [
      "1\n",
      "2\n",
      "3\n",
      "4\n",
      "5\n",
      "6\n",
      "7\n",
      "8\n",
      "9\n",
      "10\n",
      "11\n",
      "12\n",
      "13\n",
      "14\n",
      "15\n",
      "16\n",
      "17\n",
      "18\n",
      "19\n"
     ]
    }
   ],
   "source": [
    "for i in range(1,20): #range(x,y,t) x den y ye kadar t artarak.\n",
    "    print(i)"
   ]
  },
  {
   "cell_type": "code",
   "execution_count": 21,
   "metadata": {},
   "outputs": [
    {
     "data": {
      "text/plain": [
       "[5, 7, 9, 11, 13, 15, 17, 19]"
      ]
     },
     "execution_count": 21,
     "metadata": {},
     "output_type": "execute_result"
    }
   ],
   "source": [
    "list(range(5,20,2))"
   ]
  },
  {
   "cell_type": "code",
   "execution_count": 22,
   "metadata": {},
   "outputs": [],
   "source": [
    "for i in range(1,20):\n",
    "    pass #buraya daha sonra bir şeyler ekleyebeilirim."
   ]
  },
  {
   "cell_type": "markdown",
   "metadata": {},
   "source": [
    "##### Examples of For loops"
   ]
  },
  {
   "cell_type": "code",
   "execution_count": 23,
   "metadata": {},
   "outputs": [],
   "source": [
    "colors= [\"red\",\"yellow\",\"orange\",\"green\",\"blue\",\"purple\"]"
   ]
  },
  {
   "cell_type": "code",
   "execution_count": 26,
   "metadata": {},
   "outputs": [
    {
     "name": "stdout",
     "output_type": "stream",
     "text": [
      "red\n",
      "yellow\n",
      "orange\n",
      "green\n",
      "blue\n",
      "purple\n"
     ]
    }
   ],
   "source": [
    "for i in colors:\n",
    "    print(i)"
   ]
  },
  {
   "cell_type": "code",
   "execution_count": 46,
   "metadata": {},
   "outputs": [],
   "source": [
    "salary = [2000,3000,4000,5000,6000,7000]"
   ]
  },
  {
   "cell_type": "code",
   "execution_count": 50,
   "metadata": {},
   "outputs": [
    {
     "name": "stdout",
     "output_type": "stream",
     "text": [
      "4000\n",
      "6000\n",
      "8000\n",
      "10000\n",
      "12000\n"
     ]
    }
   ],
   "source": [
    "for i in range(0,5):\n",
    "    print(salary[i]*2)"
   ]
  },
  {
   "cell_type": "markdown",
   "metadata": {},
   "source": [
    "#### Doğukan Kaan Bozkurt"
   ]
  }
 ],
 "metadata": {
  "kernelspec": {
   "display_name": "Python 3",
   "language": "python",
   "name": "python3"
  },
  "language_info": {
   "codemirror_mode": {
    "name": "ipython",
    "version": 3
   },
   "file_extension": ".py",
   "mimetype": "text/x-python",
   "name": "python",
   "nbconvert_exporter": "python",
   "pygments_lexer": "ipython3",
   "version": "3.8.5"
  }
 },
 "nbformat": 4,
 "nbformat_minor": 4
}
