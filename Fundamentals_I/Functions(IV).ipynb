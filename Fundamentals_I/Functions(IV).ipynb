{
 "cells": [
  {
   "cell_type": "markdown",
   "metadata": {},
   "source": [
    "# Functions"
   ]
  },
  {
   "cell_type": "code",
   "execution_count": 3,
   "metadata": {},
   "outputs": [
    {
     "name": "stdout",
     "output_type": "stream",
     "text": [
      "25\n",
      "100\n"
     ]
    }
   ],
   "source": [
    "def get_square(x):   #def func(x) yazarak fonks yazabiliyoruz.\n",
    "    print(x**2)\n",
    "    \n",
    "get_square(5)\n",
    "get_square(10)"
   ]
  },
  {
   "cell_type": "code",
   "execution_count": 4,
   "metadata": {},
   "outputs": [
    {
     "name": "stdout",
     "output_type": "stream",
     "text": [
      "113.04\n"
     ]
    }
   ],
   "source": [
    "def area(r):\n",
    "    pi=3.14\n",
    "    print(pi*r**2)\n",
    "    \n",
    "area(6)"
   ]
  },
  {
   "cell_type": "markdown",
   "metadata": {},
   "source": [
    "##### sep , end\n",
    "\n",
    "Default--> sep=\"\" , end=\"\\n\""
   ]
  },
  {
   "cell_type": "code",
   "execution_count": 8,
   "metadata": {},
   "outputs": [
    {
     "name": "stdout",
     "output_type": "stream",
     "text": [
      "Doğukan/Kaan/Bozkurt."
     ]
    }
   ],
   "source": [
    "print(\"Doğukan\",\"Kaan\",\"Bozkurt\",sep=\"/\",end=\".\") \n",
    "#Burada sep parametresi seperator anlamına gelir.Elemanları seperator ile istenen karakterle ayırabiliriz.\n",
    "#end ise satır bittiğinde yapmak istediğimizi yada basmak istediğimizi yazabiliriz."
   ]
  },
  {
   "cell_type": "code",
   "execution_count": 10,
   "metadata": {},
   "outputs": [
    {
     "name": "stdout",
     "output_type": "stream",
     "text": [
      "Doğukan\n",
      "Kaan\n",
      "Bozkurt;"
     ]
    }
   ],
   "source": [
    "print(\"Doğukan\",\"Kaan\",\"Bozkurt\",sep=\"\\n\",end=\";\") "
   ]
  },
  {
   "cell_type": "code",
   "execution_count": 13,
   "metadata": {},
   "outputs": [
    {
     "name": "stdout",
     "output_type": "stream",
     "text": [
      "113.04\n",
      "200.96\n"
     ]
    }
   ],
   "source": [
    "area1=area(6)\n",
    "area2=area(8)"
   ]
  },
  {
   "cell_type": "code",
   "execution_count": 15,
   "metadata": {},
   "outputs": [
    {
     "ename": "TypeError",
     "evalue": "unsupported operand type(s) for +: 'NoneType' and 'NoneType'",
     "output_type": "error",
     "traceback": [
      "\u001b[1;31m---------------------------------------------------------------------------\u001b[0m",
      "\u001b[1;31mTypeError\u001b[0m                                 Traceback (most recent call last)",
      "\u001b[1;32m<ipython-input-15-b8bb9f73851d>\u001b[0m in \u001b[0;36m<module>\u001b[1;34m\u001b[0m\n\u001b[1;32m----> 1\u001b[1;33m \u001b[0marea_total\u001b[0m\u001b[1;33m=\u001b[0m\u001b[0marea1\u001b[0m\u001b[1;33m+\u001b[0m\u001b[0marea2\u001b[0m \u001b[1;31m#Burada hata alırız bu nedenle return kullanmalıyız.\u001b[0m\u001b[1;33m\u001b[0m\u001b[1;33m\u001b[0m\u001b[0m\n\u001b[0m",
      "\u001b[1;31mTypeError\u001b[0m: unsupported operand type(s) for +: 'NoneType' and 'NoneType'"
     ]
    }
   ],
   "source": [
    "area_total=area1+area2 #Burada hata alırız bu nedenle return kullanmalıyız."
   ]
  },
  {
   "cell_type": "markdown",
   "metadata": {},
   "source": [
    "##### return\n",
    "\n",
    "Fonksiyonun değeri olarak atamış oluruz. Fonksiyonlarda returnu kullanıp ilerle print yerine."
   ]
  },
  {
   "cell_type": "code",
   "execution_count": 16,
   "metadata": {},
   "outputs": [],
   "source": [
    "def area(r,pi=3.14):\n",
    "    return pi*r**2"
   ]
  },
  {
   "cell_type": "code",
   "execution_count": 17,
   "metadata": {},
   "outputs": [],
   "source": [
    "area1=area(6)\n",
    "area2=area(8)"
   ]
  },
  {
   "cell_type": "code",
   "execution_count": 19,
   "metadata": {},
   "outputs": [
    {
     "data": {
      "text/plain": [
       "314.0"
      ]
     },
     "execution_count": 19,
     "metadata": {},
     "output_type": "execute_result"
    }
   ],
   "source": [
    "area_total=area1+area2\n",
    "area_total"
   ]
  },
  {
   "cell_type": "code",
   "execution_count": 20,
   "metadata": {},
   "outputs": [],
   "source": [
    "def asdasdasd():\n",
    "    pass"
   ]
  },
  {
   "cell_type": "code",
   "execution_count": 21,
   "metadata": {},
   "outputs": [],
   "source": [
    "def even(x):\n",
    "    if x%2==0:\n",
    "        print(\"X is an even number.\")\n",
    "    else:\n",
    "        print(\"X is an odd number.\")"
   ]
  },
  {
   "cell_type": "code",
   "execution_count": 25,
   "metadata": {},
   "outputs": [
    {
     "name": "stdout",
     "output_type": "stream",
     "text": [
      "X is an even number.\n",
      "X is an odd number.\n"
     ]
    }
   ],
   "source": [
    "ev=even(4)\n",
    "even(5)"
   ]
  },
  {
   "cell_type": "code",
   "execution_count": 27,
   "metadata": {},
   "outputs": [
    {
     "data": {
      "text/plain": [
       "NoneType"
      ]
     },
     "execution_count": 27,
     "metadata": {},
     "output_type": "execute_result"
    }
   ],
   "source": [
    "type(ev) \n",
    "#Bunun nedeni printle bir çıktı aldık bu yüzden nonetype verir.Fakat returnle yaparsak ozaman str alırız."
   ]
  },
  {
   "cell_type": "code",
   "execution_count": 32,
   "metadata": {},
   "outputs": [],
   "source": [
    "def even(x):\n",
    "    if x%2==0:\n",
    "        return \"X is an even number.\"\n",
    "    else:\n",
    "        return \"X is an odd number.\""
   ]
  },
  {
   "cell_type": "code",
   "execution_count": 34,
   "metadata": {},
   "outputs": [
    {
     "data": {
      "text/plain": [
       "'X is an even number.'"
      ]
     },
     "execution_count": 34,
     "metadata": {},
     "output_type": "execute_result"
    }
   ],
   "source": [
    "ev=even(4)\n",
    "ev"
   ]
  },
  {
   "cell_type": "code",
   "execution_count": 36,
   "metadata": {},
   "outputs": [
    {
     "data": {
      "text/plain": [
       "str"
      ]
     },
     "execution_count": 36,
     "metadata": {},
     "output_type": "execute_result"
    }
   ],
   "source": [
    "type(ev) # Returnle dönme sonucunda ev'in tipi string oldu."
   ]
  },
  {
   "cell_type": "markdown",
   "metadata": {},
   "source": [
    "##### Note:\n",
    "\n",
    "Shift + Taba basarak gömülü fonk. özelliklerini ve alabileceklerini görebiliriz."
   ]
  },
  {
   "cell_type": "code",
   "execution_count": 38,
   "metadata": {},
   "outputs": [
    {
     "name": "stdout",
     "output_type": "stream",
     "text": [
      "Help on built-in function print in module builtins:\n",
      "\n",
      "print(...)\n",
      "    print(value, ..., sep=' ', end='\\n', file=sys.stdout, flush=False)\n",
      "    \n",
      "    Prints the values to a stream, or to sys.stdout by default.\n",
      "    Optional keyword arguments:\n",
      "    file:  a file-like object (stream); defaults to the current sys.stdout.\n",
      "    sep:   string inserted between values, default a space.\n",
      "    end:   string appended after the last value, default a newline.\n",
      "    flush: whether to forcibly flush the stream.\n",
      "\n"
     ]
    }
   ],
   "source": [
    "help(print) #Ayrıca help kullanarakta ulaşabilriz."
   ]
  },
  {
   "cell_type": "markdown",
   "metadata": {},
   "source": [
    "##### Note:\n",
    "\n",
    "Default olarak fonk içindeki bir elemena atama yapmak için fonks tanımlarken parantez içinde değeri eşitlik değeri yazılır."
   ]
  },
  {
   "cell_type": "code",
   "execution_count": 51,
   "metadata": {},
   "outputs": [],
   "source": [
    "def id(name=\"Empty\",surname=\"Empty\",age=\"Empty\",num=\"Empty\"):\n",
    "    print(\"Name: \",name,\"\\nSurname: \",surname,\"\\nAge: \",age,\"\\nID Number: \",num)"
   ]
  },
  {
   "cell_type": "code",
   "execution_count": 53,
   "metadata": {},
   "outputs": [
    {
     "name": "stdout",
     "output_type": "stream",
     "text": [
      "Name:  Doğukan Kaan \n",
      "Surname:  Bozkurt \n",
      "Age:  22 \n",
      "ID Number:  Empty\n"
     ]
    }
   ],
   "source": [
    "id(\"Doğukan Kaan\",\"Bozkurt\",22)"
   ]
  },
  {
   "cell_type": "code",
   "execution_count": 56,
   "metadata": {},
   "outputs": [
    {
     "name": "stdout",
     "output_type": "stream",
     "text": [
      "Name:  22 \n",
      "Surname:  99999999999 \n",
      "Age:  Empty \n",
      "ID Number:  Empty\n"
     ]
    }
   ],
   "source": [
    "id(22,99999999999) #eğer age ve num atamassak sirasiyla attigi icin hata olusur."
   ]
  },
  {
   "cell_type": "code",
   "execution_count": 57,
   "metadata": {},
   "outputs": [
    {
     "name": "stdout",
     "output_type": "stream",
     "text": [
      "Name:  Empty \n",
      "Surname:  Empty \n",
      "Age:  22 \n",
      "ID Number:  99999999999\n"
     ]
    }
   ],
   "source": [
    "id(age=22,num=99999999999)"
   ]
  },
  {
   "cell_type": "markdown",
   "metadata": {},
   "source": [
    "# *args and *kwargs"
   ]
  },
  {
   "cell_type": "markdown",
   "metadata": {},
   "source": [
    "*args and *kwargs allow you pass multiple arguments or keywords arguments to a function."
   ]
  },
  {
   "cell_type": "markdown",
   "metadata": {},
   "source": [
    "### Arbitrary Arguments, *args\n",
    "\n",
    "-İçerisine ne kadar değer girileceğini bilmediğimiz durumlarda kullanılır.\n"
   ]
  },
  {
   "cell_type": "markdown",
   "metadata": {},
   "source": [
    "# *args yerine Tuples girdisi alır."
   ]
  },
  {
   "cell_type": "code",
   "execution_count": 59,
   "metadata": {},
   "outputs": [],
   "source": [
    "def add(x,y,z):\n",
    "    return x+y+z"
   ]
  },
  {
   "cell_type": "code",
   "execution_count": 60,
   "metadata": {},
   "outputs": [
    {
     "data": {
      "text/plain": [
       "12"
      ]
     },
     "execution_count": 60,
     "metadata": {},
     "output_type": "execute_result"
    }
   ],
   "source": [
    "add (3,4,5)"
   ]
  },
  {
   "cell_type": "code",
   "execution_count": 68,
   "metadata": {},
   "outputs": [],
   "source": [
    "def add(*args): #Ne kadar girilse girilsin demek, istediğimiz kadar sayıyı yazıp toplayabiliyoryuz.\n",
    "    addition=0\n",
    "    for i in args:\n",
    "        addition+=i\n",
    "    print(addition)"
   ]
  },
  {
   "cell_type": "code",
   "execution_count": 69,
   "metadata": {},
   "outputs": [
    {
     "name": "stdout",
     "output_type": "stream",
     "text": [
      "55\n"
     ]
    }
   ],
   "source": [
    "add(1,2,3,4,5,6,7,8,9,10)"
   ]
  },
  {
   "cell_type": "markdown",
   "metadata": {},
   "source": [
    "##### Note:\n",
    "\n",
    "Asil önemli olan şey * , args yazmasakta olur. Ama diğer kod yazanların okumasındaki temizlik için args kullanılır."
   ]
  },
  {
   "cell_type": "code",
   "execution_count": 74,
   "metadata": {},
   "outputs": [],
   "source": [
    "def name(*args):\n",
    "    print(\"{} {} {} Öğrenci\".format(args[0],args[1],args[2]))\n",
    "#Buradaki gibi de önceden belirlenen boşluk sayısı kadar girdi alınabilir. .format kullanımayi unutmamak gerekli."
   ]
  },
  {
   "cell_type": "code",
   "execution_count": 75,
   "metadata": {},
   "outputs": [
    {
     "name": "stdout",
     "output_type": "stream",
     "text": [
      "Doğukan Kaan Bozkurt Öğrenci\n"
     ]
    }
   ],
   "source": [
    "name(\"Doğukan\",\"Kaan\",\"Bozkurt\")"
   ]
  },
  {
   "cell_type": "markdown",
   "metadata": {},
   "source": [
    "### Arbitrary Keyword Arguments, **kwargs"
   ]
  },
  {
   "cell_type": "markdown",
   "metadata": {},
   "source": [
    "** kwargs works just like *args, but instead of accepting positional arguments it accepts keyword (or named) arguments\n",
    "\n",
    "If you do not know how mant keyword arguments that will be passed into your function, add two asterisk: ** before the parameter name in the function definiton.\n",
    "\n",
    "This wayy the function will receive a dictionary of argumets,and can access the items accordingly."
   ]
  },
  {
   "cell_type": "markdown",
   "metadata": {},
   "source": [
    "# **kwargs yerine Dictionary girdisi alır"
   ]
  },
  {
   "cell_type": "code",
   "execution_count": 79,
   "metadata": {},
   "outputs": [],
   "source": [
    "def id_inf(**kwargs):\n",
    "    print(\"kwargs:\",kwargs)"
   ]
  },
  {
   "cell_type": "code",
   "execution_count": 80,
   "metadata": {},
   "outputs": [
    {
     "name": "stdout",
     "output_type": "stream",
     "text": [
      "kwargs: {'name': 'Doğukan Kaan', 'surname': 'Bozkurt'}\n"
     ]
    }
   ],
   "source": [
    "id_inf(name=\"Doğukan Kaan\",surname=\"Bozkurt\")"
   ]
  },
  {
   "cell_type": "code",
   "execution_count": 87,
   "metadata": {},
   "outputs": [],
   "source": [
    "def id_inf(**kwargs):\n",
    "    for key,value in kwargs.items():\n",
    "        print(\"{} = {}\".format(key,value))"
   ]
  },
  {
   "cell_type": "code",
   "execution_count": 89,
   "metadata": {},
   "outputs": [
    {
     "name": "stdout",
     "output_type": "stream",
     "text": [
      "name = Doğukan Kaan\n",
      "surname = Bozkurt\n",
      "age = 22\n",
      "email = dkaanbozkurt@gmail.com\n"
     ]
    }
   ],
   "source": [
    "id_inf(name=\"Doğukan Kaan\",surname=\"Bozkurt\",age=\"22\",email=\"dkaanbozkurt@gmail.com\")"
   ]
  },
  {
   "cell_type": "code",
   "execution_count": 91,
   "metadata": {},
   "outputs": [],
   "source": [
    "def new(*args,**kwargs):\n",
    "    print(\"args:\",args,\"kwargs\",kwargs)"
   ]
  },
  {
   "cell_type": "code",
   "execution_count": 94,
   "metadata": {},
   "outputs": [
    {
     "name": "stdout",
     "output_type": "stream",
     "text": [
      "args: (1, 2, 3, 4, 5, 6) kwargs {'name': 'Doğukan Kaan', 'surname': 'Bozkurt'}\n"
     ]
    }
   ],
   "source": [
    "new(1,2,3,4,5,6,name=\"Doğukan Kaan\",surname=\"Bozkurt\") #Burada da tuple ve dic olarak farkını kendisi alıyor otomatik."
   ]
  },
  {
   "cell_type": "markdown",
   "metadata": {},
   "source": [
    "##### Note:\n",
    "\n",
    "Sıralama da args önce verildiyse önce tüm argslar girilir. Sıralamada hata varsa kod hata verir.**Sıralamaya dikkat**"
   ]
  },
  {
   "cell_type": "code",
   "execution_count": 96,
   "metadata": {},
   "outputs": [
    {
     "ename": "SyntaxError",
     "evalue": "positional argument follows keyword argument (<ipython-input-96-acd700364882>, line 1)",
     "output_type": "error",
     "traceback": [
      "\u001b[1;36m  File \u001b[1;32m\"<ipython-input-96-acd700364882>\"\u001b[1;36m, line \u001b[1;32m1\u001b[0m\n\u001b[1;33m    new(1,2,3,4,5,6,name=\"Doğukan Kaan\",surname=\"Bozkurt\",7,8,9) # Burada hata verme nedeni args kwargs,args diye gitmesi\u001b[0m\n\u001b[1;37m                                                           ^\u001b[0m\n\u001b[1;31mSyntaxError\u001b[0m\u001b[1;31m:\u001b[0m positional argument follows keyword argument\n"
     ]
    }
   ],
   "source": [
    "new(1,2,3,4,5,6,name=\"Doğukan Kaan\",surname=\"Bozkurt\",7,8,9) # Burada hata verme nedeni args kwargs,args diye gitmesi"
   ]
  },
  {
   "cell_type": "code",
   "execution_count": 100,
   "metadata": {},
   "outputs": [],
   "source": [
    "def combine(**kwargs):\n",
    "    end=\"\"\n",
    "    for keyy in kwargs.values():\n",
    "        end=end+keyy\n",
    "    return end"
   ]
  },
  {
   "cell_type": "code",
   "execution_count": 103,
   "metadata": {},
   "outputs": [
    {
     "data": {
      "text/plain": [
       "'Python is the best programming language.'"
      ]
     },
     "execution_count": 103,
     "metadata": {},
     "output_type": "execute_result"
    }
   ],
   "source": [
    "combine(a=\"Python \",b=\"is \",c=\"the \",d=\"best \",e=\"programming \",f=\"language.\")"
   ]
  },
  {
   "cell_type": "markdown",
   "metadata": {},
   "source": [
    "# Python Global and Local variables"
   ]
  },
  {
   "cell_type": "markdown",
   "metadata": {},
   "source": [
    "### Global Variables"
   ]
  },
  {
   "cell_type": "markdown",
   "metadata": {},
   "source": [
    "In Python, a variable declared outside of the function or in global scope is known as a global variable. This means that a globa variable can be accessed inside or outside of the function."
   ]
  },
  {
   "cell_type": "code",
   "execution_count": 1,
   "metadata": {},
   "outputs": [
    {
     "name": "stdout",
     "output_type": "stream",
     "text": [
      "10\n"
     ]
    }
   ],
   "source": [
    "x=10\n",
    "\n",
    "print(x)"
   ]
  },
  {
   "cell_type": "markdown",
   "metadata": {},
   "source": [
    "### Local Variables"
   ]
  },
  {
   "cell_type": "markdown",
   "metadata": {},
   "source": [
    "A variable declared inside the function's body or in the local scope is known as local variable."
   ]
  },
  {
   "cell_type": "code",
   "execution_count": 6,
   "metadata": {},
   "outputs": [
    {
     "name": "stdout",
     "output_type": "stream",
     "text": [
      "10\n"
     ]
    }
   ],
   "source": [
    "x=10 #Bu global variable olarak tanımlanır. O yüzden func. dışıdaki çıktıda 10 basar.\n",
    "\n",
    "def function(): #funcların içinde tanımlanan değerler local variabledir.\n",
    "    x=5\n",
    "    print(x)\n",
    "    \n",
    "print(x)"
   ]
  },
  {
   "cell_type": "code",
   "execution_count": 7,
   "metadata": {},
   "outputs": [
    {
     "name": "stdout",
     "output_type": "stream",
     "text": [
      "5\n"
     ]
    }
   ],
   "source": [
    "function()"
   ]
  },
  {
   "cell_type": "markdown",
   "metadata": {},
   "source": [
    "### Python Lambda Function"
   ]
  },
  {
   "cell_type": "markdown",
   "metadata": {},
   "source": [
    "A lambda func is a small anonyumous funch.\n",
    "\n",
    "A lambda func can take any number of arguments, but can only have one expression.\n",
    "\n",
    "Use lambda when you use one time this func.\n",
    "\n",
    "lambda arguments: expression"
   ]
  },
  {
   "cell_type": "code",
   "execution_count": 3,
   "metadata": {},
   "outputs": [],
   "source": [
    "def kare(x):\n",
    "    return x**2 #Bu func. lambda func çevirmek için gelecek satirlar izlenmeli."
   ]
  },
  {
   "cell_type": "code",
   "execution_count": 4,
   "metadata": {},
   "outputs": [
    {
     "data": {
      "text/plain": [
       "64"
      ]
     },
     "execution_count": 4,
     "metadata": {},
     "output_type": "execute_result"
    }
   ],
   "source": [
    "kare(8)"
   ]
  },
  {
   "cell_type": "code",
   "execution_count": 5,
   "metadata": {},
   "outputs": [],
   "source": [
    "x=lambda x:x**2"
   ]
  },
  {
   "cell_type": "code",
   "execution_count": 6,
   "metadata": {},
   "outputs": [
    {
     "data": {
      "text/plain": [
       "100"
      ]
     },
     "execution_count": 6,
     "metadata": {},
     "output_type": "execute_result"
    }
   ],
   "source": [
    "x(10)"
   ]
  },
  {
   "cell_type": "markdown",
   "metadata": {},
   "source": [
    "Why Use Lambda Func?\n",
    "\n",
    "The power of lambda is better shown when you use them as an anonymous func. inside another func."
   ]
  },
  {
   "cell_type": "markdown",
   "metadata": {},
   "source": [
    "The filter() func is Python takes is a func. and a list as arguments. The filter() func returns an iterator were the items are filtered through a func. to test if the item is accepted or not.\n",
    "\n",
    "The func. is called with all the items in the list and a new list is returned which contains items for which the func. evaluates to True.\n",
    "\n",
    "Here is an example use of filter() func. to filter out onlt even numbers from a list."
   ]
  },
  {
   "cell_type": "code",
   "execution_count": 8,
   "metadata": {},
   "outputs": [
    {
     "data": {
      "text/plain": [
       "[2, 4, 6, 8, 10]"
      ]
     },
     "execution_count": 8,
     "metadata": {},
     "output_type": "execute_result"
    }
   ],
   "source": [
    "x=[1,2,3,4,5,6,7,8,9,10]\n",
    "\n",
    "list(filter(lambda x:(x%2==0),x))"
   ]
  },
  {
   "cell_type": "markdown",
   "metadata": {},
   "source": [
    "#### Map()"
   ]
  },
  {
   "cell_type": "markdown",
   "metadata": {},
   "source": [
    "Example use with map()\n",
    "\n",
    "The map() function in Python takes in a function and a list.The map() func. executes a specified func for each item in a iterable.The item is sent to the func. as a parameter.\n",
    "\n",
    "The func. is called with all the items in the list and a new list is returned which contains items returned by that func. for each item.\n",
    "\n",
    "Here is an example use of map() func. t odouble all the items in a list."
   ]
  },
  {
   "cell_type": "code",
   "execution_count": 24,
   "metadata": {},
   "outputs": [],
   "source": [
    "x=[1,2,3,4,5,6,7,8,9,10]\n",
    "\n",
    "y=list(map(lambda x:x**2,x))#list(map(lambda x(1):x**2,x(2)) \n",
    "#Burada her bir x(1) değeri için x**2 ,işlemini uygulayıp x(2) nin o indeksine eşitleyip bas fakat x in içeriğini değiştirme."
   ]
  },
  {
   "cell_type": "markdown",
   "metadata": {},
   "source": [
    "## Note:\n",
    "\n",
    "filter() filtereden geçirip belirli çıktılar almamızı sağlarken map() tüm elemanlar üzerine işlem uygulama ve ona göre cıktı almamızı saglar.\n"
   ]
  },
  {
   "cell_type": "code",
   "execution_count": 26,
   "metadata": {},
   "outputs": [
    {
     "name": "stdout",
     "output_type": "stream",
     "text": [
      "[1, 2, 3, 4, 5, 6, 7, 8, 9, 10]\n",
      "[1, 4, 9, 16, 25, 36, 49, 64, 81, 100]\n"
     ]
    }
   ],
   "source": [
    "print(x)\n",
    "print(y)"
   ]
  },
  {
   "cell_type": "markdown",
   "metadata": {},
   "source": [
    "### Some Built-in Functions(Gömülü Fonksiyonlar)"
   ]
  },
  {
   "cell_type": "markdown",
   "metadata": {},
   "source": [
    "abs() Returns the absolute value of a number"
   ]
  },
  {
   "cell_type": "code",
   "execution_count": 27,
   "metadata": {},
   "outputs": [
    {
     "data": {
      "text/plain": [
       "7.5"
      ]
     },
     "execution_count": 27,
     "metadata": {},
     "output_type": "execute_result"
    }
   ],
   "source": [
    "abs(-7.50)"
   ]
  },
  {
   "cell_type": "markdown",
   "metadata": {},
   "source": [
    "bin() Returns the binary version of a number"
   ]
  },
  {
   "cell_type": "code",
   "execution_count": 28,
   "metadata": {},
   "outputs": [
    {
     "data": {
      "text/plain": [
       "'0b100'"
      ]
     },
     "execution_count": 28,
     "metadata": {},
     "output_type": "execute_result"
    }
   ],
   "source": [
    "bin(4)"
   ]
  },
  {
   "cell_type": "markdown",
   "metadata": {},
   "source": [
    "enumerate() Takes a collection (e.g. a tuple) and returns it as an enumerate object"
   ]
  },
  {
   "cell_type": "code",
   "execution_count": 29,
   "metadata": {},
   "outputs": [],
   "source": [
    "colors=[\"red\",\"orange\",\"yellow\",\"green\",\"blue\",\"purple\"]"
   ]
  },
  {
   "cell_type": "code",
   "execution_count": 30,
   "metadata": {},
   "outputs": [],
   "source": [
    "xyz=enumerate(colors)"
   ]
  },
  {
   "cell_type": "code",
   "execution_count": 32,
   "metadata": {},
   "outputs": [
    {
     "data": {
      "text/plain": [
       "[(0, 'red'),\n",
       " (1, 'orange'),\n",
       " (2, 'yellow'),\n",
       " (3, 'green'),\n",
       " (4, 'blue'),\n",
       " (5, 'purple')]"
      ]
     },
     "execution_count": 32,
     "metadata": {},
     "output_type": "execute_result"
    }
   ],
   "source": [
    "list(xyz)"
   ]
  },
  {
   "cell_type": "code",
   "execution_count": 33,
   "metadata": {},
   "outputs": [
    {
     "name": "stdout",
     "output_type": "stream",
     "text": [
      "0 red\n",
      "1 orange\n",
      "2 yellow\n",
      "3 green\n",
      "4 blue\n",
      "5 purple\n"
     ]
    }
   ],
   "source": [
    "for index,colors in enumerate(colors):\n",
    "    print(index,colors)"
   ]
  },
  {
   "cell_type": "markdown",
   "metadata": {},
   "source": [
    "max() Returns the largest item in an iterable.(iterable = tekrarlanabilir)\n",
    "\n",
    "The max() func. returns the item with the highest value, or the item with the highest value in an iterable\n",
    "\n",
    "If the values are strings, an alphabetically comparison is done."
   ]
  },
  {
   "cell_type": "code",
   "execution_count": 34,
   "metadata": {},
   "outputs": [
    {
     "data": {
      "text/plain": [
       "35"
      ]
     },
     "execution_count": 34,
     "metadata": {},
     "output_type": "execute_result"
    }
   ],
   "source": [
    "kkk=[2,3,7,4,12,35]\n",
    "max(kkk)"
   ]
  },
  {
   "cell_type": "code",
   "execution_count": 36,
   "metadata": {},
   "outputs": [
    {
     "data": {
      "text/plain": [
       "'u'"
      ]
     },
     "execution_count": 36,
     "metadata": {},
     "output_type": "execute_result"
    }
   ],
   "source": [
    "trtrtr=[\"d\",\"o\",\"g\",\"u\",\"k\",\"a\",\"n\"]\n",
    "max(trtrtr) #alfabedeki son sıradaki harf."
   ]
  },
  {
   "cell_type": "markdown",
   "metadata": {},
   "source": [
    "min() returns the smallest item in an iterable \n",
    "\n",
    "The min() func. returns the item with the lowest value, or the item with the lowest value in an iterable\n",
    "\n",
    "If the values are strings, an alphabetically comparison is done."
   ]
  },
  {
   "cell_type": "code",
   "execution_count": 37,
   "metadata": {},
   "outputs": [
    {
     "data": {
      "text/plain": [
       "2"
      ]
     },
     "execution_count": 37,
     "metadata": {},
     "output_type": "execute_result"
    }
   ],
   "source": [
    "kkk=[2,3,7,4,12,35]\n",
    "min(kkk)"
   ]
  },
  {
   "cell_type": "code",
   "execution_count": 38,
   "metadata": {},
   "outputs": [
    {
     "data": {
      "text/plain": [
       "'a'"
      ]
     },
     "execution_count": 38,
     "metadata": {},
     "output_type": "execute_result"
    }
   ],
   "source": [
    "trtrtr=[\"d\",\"o\",\"g\",\"u\",\"k\",\"a\",\"n\"]\n",
    "min(trtrtr) #alfabedeki ilk sıradaki harf."
   ]
  },
  {
   "cell_type": "markdown",
   "metadata": {},
   "source": [
    "pow() Returns the value of x to the power of y\n",
    "\n",
    "The pov() func. returns the value of x to the power of y (xy).\n",
    "\n",
    "If a third parameter is present, it returns x to the power of y, modulus z.\n",
    "Return the value fo 5 to the power of 4,modulus 10 (same as(5 * 5 * 5 * 5) % 10)"
   ]
  },
  {
   "cell_type": "code",
   "execution_count": 40,
   "metadata": {},
   "outputs": [
    {
     "data": {
      "text/plain": [
       "32"
      ]
     },
     "execution_count": 40,
     "metadata": {},
     "output_type": "execute_result"
    }
   ],
   "source": [
    "pow(2,5)"
   ]
  },
  {
   "cell_type": "code",
   "execution_count": 41,
   "metadata": {},
   "outputs": [
    {
     "data": {
      "text/plain": [
       "5"
      ]
     },
     "execution_count": 41,
     "metadata": {},
     "output_type": "execute_result"
    }
   ],
   "source": [
    "pow(5,4,10)"
   ]
  },
  {
   "cell_type": "markdown",
   "metadata": {},
   "source": [
    "reversed() Returns a reversed iterator"
   ]
  },
  {
   "cell_type": "code",
   "execution_count": 44,
   "metadata": {},
   "outputs": [
    {
     "data": {
      "text/plain": [
       "[5, 35, 12, 40, 7, 3, 2]"
      ]
     },
     "execution_count": 44,
     "metadata": {},
     "output_type": "execute_result"
    }
   ],
   "source": [
    "kk=[2,3,7,40,12,35,5]\n",
    "y=reversed(kk)\n",
    "list(y)"
   ]
  },
  {
   "cell_type": "markdown",
   "metadata": {},
   "source": [
    "round() Rounds a numbers"
   ]
  },
  {
   "cell_type": "code",
   "execution_count": 47,
   "metadata": {},
   "outputs": [
    {
     "data": {
      "text/plain": [
       "3.1457"
      ]
     },
     "execution_count": 47,
     "metadata": {},
     "output_type": "execute_result"
    }
   ],
   "source": [
    "round(3.14567,4) #round(x,y) x sayısını yuvarladiginda , den sonra y kadar sayi görürüz."
   ]
  },
  {
   "cell_type": "markdown",
   "metadata": {},
   "source": [
    "sorted() Returns a sorted list"
   ]
  },
  {
   "cell_type": "code",
   "execution_count": 48,
   "metadata": {},
   "outputs": [
    {
     "data": {
      "text/plain": [
       "[2, 3, 5, 7, 12, 35, 40]"
      ]
     },
     "execution_count": 48,
     "metadata": {},
     "output_type": "execute_result"
    }
   ],
   "source": [
    "kk=[2,3,7,40,12,35,5]\n",
    "sorted(kk)"
   ]
  },
  {
   "cell_type": "code",
   "execution_count": 50,
   "metadata": {},
   "outputs": [
    {
     "data": {
      "text/plain": [
       "[40, 35, 12, 7, 5, 3, 2]"
      ]
     },
     "execution_count": 50,
     "metadata": {},
     "output_type": "execute_result"
    }
   ],
   "source": [
    "sorted(kk,reverse= True) # büyükten küçüğe sıralamak için."
   ]
  },
  {
   "cell_type": "markdown",
   "metadata": {},
   "source": [
    "sum() Sums the items of an iterator"
   ]
  },
  {
   "cell_type": "code",
   "execution_count": 51,
   "metadata": {},
   "outputs": [],
   "source": [
    "kk=[2,3,7,40,12,35,5]"
   ]
  },
  {
   "cell_type": "code",
   "execution_count": 53,
   "metadata": {},
   "outputs": [
    {
     "data": {
      "text/plain": [
       "104"
      ]
     },
     "execution_count": 53,
     "metadata": {},
     "output_type": "execute_result"
    }
   ],
   "source": [
    "sum(kk)"
   ]
  },
  {
   "cell_type": "markdown",
   "metadata": {},
   "source": [
    "zip() Returns an iterator, from two or more iterators"
   ]
  },
  {
   "cell_type": "code",
   "execution_count": 54,
   "metadata": {},
   "outputs": [],
   "source": [
    "za=[1,2,3,4]\n",
    "colors=[\"red\",\"orange\",\"yellow\",\"green\",\"blue\",\"purple\"]"
   ]
  },
  {
   "cell_type": "code",
   "execution_count": 56,
   "metadata": {},
   "outputs": [
    {
     "data": {
      "text/plain": [
       "[(1, 'red'), (2, 'orange'), (3, 'yellow'), (4, 'green')]"
      ]
     },
     "execution_count": 56,
     "metadata": {},
     "output_type": "execute_result"
    }
   ],
   "source": [
    "list(zip(za,colors))"
   ]
  },
  {
   "cell_type": "code",
   "execution_count": 57,
   "metadata": {},
   "outputs": [],
   "source": [
    "#Doğukan Kaan Bozkurt"
   ]
  }
 ],
 "metadata": {
  "kernelspec": {
   "display_name": "Python 3",
   "language": "python",
   "name": "python3"
  },
  "language_info": {
   "codemirror_mode": {
    "name": "ipython",
    "version": 3
   },
   "file_extension": ".py",
   "mimetype": "text/x-python",
   "name": "python",
   "nbconvert_exporter": "python",
   "pygments_lexer": "ipython3",
   "version": "3.8.5"
  }
 },
 "nbformat": 4,
 "nbformat_minor": 4
}
